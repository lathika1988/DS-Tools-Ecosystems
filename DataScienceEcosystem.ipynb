{
 "cells": [
  {
   "cell_type": "markdown",
   "id": "01bfc127-d0b4-451c-a31b-1dc2b423ef36",
   "metadata": {},
   "source": [
    "# Data Science Tools and Ecosystem"
   ]
  },
  {
   "cell_type": "markdown",
   "id": "fd7c57e4-88da-417e-8829-7dd3f210275f",
   "metadata": {},
   "source": [
    "In this notebook, Data Science Tools and Ecosystem are summarized."
   ]
  },
  {
   "cell_type": "markdown",
   "id": "a0eca0a4-5939-46ed-a7d5-c389629c9736",
   "metadata": {},
   "source": [
    "**Objectives** \n",
    "- List popular languages for Data Science\n",
    "- commonly used libraries used by Data Scientists\n",
    "- Data Science Tools"
   ]
  },
  {
   "cell_type": "markdown",
   "id": "340eca77-b40c-4ba9-ab2c-d2bc585c771e",
   "metadata": {},
   "source": [
    "Some of the popular languages that Data Scientists use are:\n",
    "1. Python\n",
    "2. R\n",
    "3. VBA\n",
    "4. Julia"
   ]
  },
  {
   "cell_type": "markdown",
   "id": "9ac12bf6-72ab-4f9e-ae4c-9a2c25c92a1a",
   "metadata": {},
   "source": [
    "Some of the commonly used libraries used by Data Scientists include:\n",
    "- Pandas\n",
    "- NumPy\n",
    "- Matplotlib\n",
    "- TensorFlow\n",
    "- SciPy"
   ]
  },
  {
   "cell_type": "markdown",
   "id": "6a61ebd1-9ecc-4284-8607-87a0936d154b",
   "metadata": {},
   "source": [
    "|Data Science Tools|\n",
    "|----|\n",
    "|Jupyter Notebook|\n",
    "|R Studio|\n",
    "|Tableau|"
   ]
  },
  {
   "cell_type": "markdown",
   "id": "e4097236-f087-4f20-8dd9-8ad86955641f",
   "metadata": {},
   "source": [
    "### Below are a few examples of evaluating arithmetic expressions in Python"
   ]
  },
  {
   "cell_type": "code",
   "execution_count": 1,
   "id": "2df4a66a-e2c7-4cf4-9360-db371e81f88b",
   "metadata": {},
   "outputs": [
    {
     "data": {
      "text/plain": [
       "17"
      ]
     },
     "execution_count": 1,
     "metadata": {},
     "output_type": "execute_result"
    }
   ],
   "source": [
    "#This a simple arithmetic expression to mutiply then add integers\n",
    "\n",
    "(3*4)+5"
   ]
  },
  {
   "cell_type": "code",
   "execution_count": 2,
   "id": "274554d1-3a92-4638-84ba-1e0c26e454a3",
   "metadata": {},
   "outputs": [
    {
     "data": {
      "text/plain": [
       "3"
      ]
     },
     "execution_count": 2,
     "metadata": {},
     "output_type": "execute_result"
    }
   ],
   "source": [
    "#This will convert 200 minutes to hours by diving by 60\n",
    "\n",
    "200//60"
   ]
  },
  {
   "cell_type": "markdown",
   "id": "45ef5a51-1426-4031-b1b7-6872afbc074e",
   "metadata": {},
   "source": [
    "## Author\n",
    "Lathika Thilakarathna"
   ]
  }
 ],
 "metadata": {
  "kernelspec": {
   "display_name": "Python 3 (ipykernel)",
   "language": "python",
   "name": "python3"
  },
  "language_info": {
   "codemirror_mode": {
    "name": "ipython",
    "version": 3
   },
   "file_extension": ".py",
   "mimetype": "text/x-python",
   "name": "python",
   "nbconvert_exporter": "python",
   "pygments_lexer": "ipython3",
   "version": "3.11.7"
  }
 },
 "nbformat": 4,
 "nbformat_minor": 5
}
